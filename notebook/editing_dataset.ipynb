{
 "cells": [
  {
   "cell_type": "markdown",
   "id": "b2479bbb",
   "metadata": {},
   "source": [
    "In this notebook, I will combine the all folders together as rotten and fresh. \n",
    "\n",
    "I have tried to train a model, but I didn't obtain a good accuracy, I will test if this method will work"
   ]
  },
  {
   "cell_type": "code",
   "execution_count": 1,
   "id": "df041918",
   "metadata": {},
   "outputs": [],
   "source": [
    "import glob\n",
    "import shutil\n",
    "import os\n",
    "from tqdm import tqdm\n",
    "import glob"
   ]
  },
  {
   "cell_type": "code",
   "execution_count": 2,
   "id": "2f19eb63",
   "metadata": {},
   "outputs": [],
   "source": [
    "os.chdir(\"D:\\Bachelor-Project\\Conveyor-Belt-with-ML\")"
   ]
  },
  {
   "cell_type": "code",
   "execution_count": 3,
   "id": "b47fe042",
   "metadata": {},
   "outputs": [],
   "source": [
    "rotten_apple = \"dataset/train/rottenapples\"\n",
    "rotten_banana = \"dataset/train/rottenbanana\"\n",
    "rotten_oranges = \"dataset/train/rottenoranges\"\n",
    "\n",
    "fresh_apple = \"dataset/train/freshapples\"\n",
    "fresh_banana = \"dataset/train/freshbanana\"\n",
    "fresh_oranges = \"dataset/train/freshoranges\"\n",
    "\n",
    "rotten_dir = \"dataset/train/rotten\"\n",
    "fresh_dir = \"dataset/train/fresh\""
   ]
  },
  {
   "cell_type": "code",
   "execution_count": 4,
   "id": "057e3f44",
   "metadata": {},
   "outputs": [
    {
     "name": "stderr",
     "output_type": "stream",
     "text": [
      "2342it [00:09, 250.96it/s]\n",
      "2224it [00:12, 180.43it/s]\n",
      "1595it [00:15, 106.14it/s]\n",
      "1693it [00:10, 159.29it/s]\n",
      "1581it [00:07, 216.88it/s]\n",
      "1466it [00:11, 125.42it/s]\n"
     ]
    }
   ],
   "source": [
    "for pngfile in tqdm(glob.iglob(os.path.join(rotten_apple, \"*.png\"))):\n",
    "    shutil.copy(pngfile, rotten_dir)\n",
    "\n",
    "for pngfile in tqdm(glob.iglob(os.path.join(rotten_banana, \"*.png\"))):\n",
    "    shutil.copy(pngfile, rotten_dir)\n",
    "\n",
    "for pngfile in tqdm(glob.iglob(os.path.join(rotten_oranges, \"*.png\"))):\n",
    "    shutil.copy(pngfile, rotten_dir)\n",
    "\n",
    "    \n",
    "for pngfile in tqdm(glob.iglob(os.path.join(fresh_apple, \"*.png\"))):\n",
    "    shutil.copy(pngfile, fresh_dir)\n",
    "\n",
    "for pngfile in tqdm(glob.iglob(os.path.join(fresh_banana, \"*.png\"))):\n",
    "    shutil.copy(pngfile, fresh_dir)\n",
    "\n",
    "for pngfile in tqdm(glob.iglob(os.path.join(fresh_oranges, \"*.png\"))):\n",
    "    shutil.copy(pngfile, fresh_dir)\n"
   ]
  },
  {
   "cell_type": "code",
   "execution_count": 5,
   "id": "fcbf7dc4",
   "metadata": {},
   "outputs": [],
   "source": [
    "test_rotten_apple = \"dataset/test/rottenapples\"\n",
    "test_rotten_banana = \"dataset/test/rottenbanana\"\n",
    "test_rotten_oranges = \"dataset/test/rottenoranges\"\n",
    "\n",
    "test_fresh_apple = \"dataset/test/freshapples\"\n",
    "test_fresh_banana = \"dataset/test/freshbanana\"\n",
    "test_fresh_oranges = \"dataset/test/freshoranges\"\n",
    "\n",
    "test_rotten_dir = \"dataset/test/rotten\"\n",
    "test_fresh_dir = \"dataset/test/fresh\""
   ]
  },
  {
   "cell_type": "code",
   "execution_count": 6,
   "id": "15cd676f",
   "metadata": {
    "scrolled": true
   },
   "outputs": [
    {
     "name": "stderr",
     "output_type": "stream",
     "text": [
      "395it [00:03, 114.33it/s]\n",
      "530it [00:05, 91.49it/s] \n",
      "403it [00:03, 104.88it/s]\n",
      "395it [00:00, 917.64it/s] \n",
      "381it [00:02, 189.21it/s]\n",
      "388it [00:01, 202.23it/s]\n"
     ]
    }
   ],
   "source": [
    "for pngfile in tqdm(glob.iglob(os.path.join(test_fresh_apple, \"*.png\"))):\n",
    "    shutil.copy(pngfile, test_rotten_dir)\n",
    "\n",
    "for pngfile in tqdm(glob.iglob(os.path.join(test_rotten_banana, \"*.png\"))):\n",
    "    shutil.copy(pngfile, test_rotten_dir)\n",
    "\n",
    "for pngfile in tqdm(glob.iglob(os.path.join(test_rotten_oranges, \"*.png\"))):\n",
    "    shutil.copy(pngfile, test_rotten_dir)\n",
    "\n",
    "    \n",
    "for pngfile in tqdm(glob.iglob(os.path.join(test_fresh_apple, \"*.png\"))):\n",
    "    shutil.copy(pngfile, test_fresh_dir)\n",
    "\n",
    "for pngfile in tqdm(glob.iglob(os.path.join(test_fresh_banana, \"*.png\"))):\n",
    "    shutil.copy(pngfile, test_fresh_dir)\n",
    "\n",
    "for pngfile in tqdm(glob.iglob(os.path.join(test_fresh_oranges, \"*.png\"))):\n",
    "    shutil.copy(pngfile, test_fresh_dir)\n"
   ]
  }
 ],
 "metadata": {
  "kernelspec": {
   "display_name": "Python 3 (ipykernel)",
   "language": "python",
   "name": "python3"
  },
  "language_info": {
   "codemirror_mode": {
    "name": "ipython",
    "version": 3
   },
   "file_extension": ".py",
   "mimetype": "text/x-python",
   "name": "python",
   "nbconvert_exporter": "python",
   "pygments_lexer": "ipython3",
   "version": "3.9.13"
  }
 },
 "nbformat": 4,
 "nbformat_minor": 5
}
